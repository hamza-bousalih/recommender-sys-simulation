{
 "cells": [
  {
   "cell_type": "code",
   "execution_count": 1,
   "metadata": {},
   "outputs": [
    {
     "name": "stderr",
     "output_type": "stream",
     "text": [
      "C:\\Users\\admin\\AppData\\Local\\Temp\\ipykernel_11204\\2085947940.py:3: FutureWarning: You are using `torch.load` with `weights_only=False` (the current default value), which uses the default pickle module implicitly. It is possible to construct malicious pickle data which will execute arbitrary code during unpickling (See https://github.com/pytorch/pytorch/blob/main/SECURITY.md#untrusted-models for more details). In a future release, the default value for `weights_only` will be flipped to `True`. This limits the functions that could be executed during unpickling. Arbitrary objects will no longer be allowed to be loaded via this mode unless they are explicitly allowlisted by the user via `torch.serialization.add_safe_globals`. We recommend you start setting `weights_only=True` for any use case where you don't have full control of the loaded file. Please open an issue on GitHub for any issues related to this experimental feature.\n",
      "  model = torch.load('./model.pth')\n"
     ]
    }
   ],
   "source": [
    "import torch\n",
    "\n",
    "model = torch.load('./model.pth')"
   ]
  },
  {
   "cell_type": "code",
   "execution_count": 3,
   "metadata": {},
   "outputs": [],
   "source": [
    "from torch import nn\n",
    "\n",
    "class DeepCollaborativeFiltering_target(nn.Module):\n",
    "    def __init__(self, num_users, num_items, embedding_dim=32):\n",
    "        super(DeepCollaborativeFiltering_target, self).__init__()\n",
    "        self.user_embedding = nn.Embedding(num_users, embedding_dim)\n",
    "        self.item_embedding = nn.Embedding(num_items, embedding_dim)\n",
    "        self.fc1 = nn.Linear(embedding_dim * 2, 128)\n",
    "        self.fc2 = nn.Linear(128, 64)\n",
    "        self.output = nn.Linear(64, 1)  # Sortie unique pour binaire\n",
    "\n",
    "    def forward(self, user_ids, item_ids):\n",
    "        user_emb = self.user_embedding(user_ids)\n",
    "        item_emb = self.item_embedding(item_ids)\n",
    "        x = torch.cat([user_emb, item_emb], dim=1)\n",
    "        x = torch.relu(self.fc1(x))\n",
    "        x = torch.relu(self.fc2(x))\n",
    "        x = torch.sigmoid(self.output(x))  # Activation sigmoïde pour classification binaire\n",
    "        return x\n"
   ]
  },
  {
   "cell_type": "code",
   "execution_count": 7,
   "metadata": {},
   "outputs": [],
   "source": [
    "# Nombre total d'utilisateurs et d'items dans le domaine cible\n",
    "num_users_target = 583964  # Utilisateurs communs (source + cible)\n",
    "num_items_target = 546895"
   ]
  },
  {
   "cell_type": "code",
   "execution_count": 8,
   "metadata": {},
   "outputs": [
    {
     "name": "stderr",
     "output_type": "stream",
     "text": [
      "C:\\Users\\admin\\AppData\\Local\\Temp\\ipykernel_11204\\3306229806.py:3: FutureWarning: You are using `torch.load` with `weights_only=False` (the current default value), which uses the default pickle module implicitly. It is possible to construct malicious pickle data which will execute arbitrary code during unpickling (See https://github.com/pytorch/pytorch/blob/main/SECURITY.md#untrusted-models for more details). In a future release, the default value for `weights_only` will be flipped to `True`. This limits the functions that could be executed during unpickling. Arbitrary objects will no longer be allowed to be loaded via this mode unless they are explicitly allowlisted by the user via `torch.serialization.add_safe_globals`. We recommend you start setting `weights_only=True` for any use case where you don't have full control of the loaded file. Please open an issue on GitHub for any issues related to this experimental feature.\n",
      "  model_target.load_state_dict(torch.load(\"./model.pth\"))\n"
     ]
    },
    {
     "name": "stdout",
     "output_type": "stream",
     "text": [
      "Modèle chargé avec succès\n"
     ]
    }
   ],
   "source": [
    "# Chargement du modèle sauvegardé\n",
    "model_target = DeepCollaborativeFiltering_target(num_users_target, num_items_target)\n",
    "model_target.load_state_dict(torch.load(\"./model.pth\"))\n",
    "model_target.eval()\n",
    "print(\"Modèle chargé avec succès\")"
   ]
  },
  {
   "cell_type": "code",
   "execution_count": 20,
   "metadata": {},
   "outputs": [
    {
     "data": {
      "text/plain": [
       "[(9228, 0.9735859036445618),\n",
       " (9830, 0.9695830941200256),\n",
       " (9925, 0.9631091952323914),\n",
       " (8238, 0.9584673643112183),\n",
       " (9340, 0.9531669616699219),\n",
       " (147, 0.9518650770187378),\n",
       " (3662, 0.9456021785736084),\n",
       " (7689, 0.9375821948051453),\n",
       " (2586, 0.933740496635437),\n",
       " (749, 0.9274648427963257)]"
      ]
     },
     "execution_count": 20,
     "metadata": {},
     "output_type": "execute_result"
    }
   ],
   "source": [
    "# Liste des items spécifiques à prédire\n",
    "user_id = 123\n",
    "\n",
    "specific_items = list(range(1,10_000))\n",
    "\n",
    "# Calcul des probabilités pour chaque item\n",
    "probabilities = []\n",
    "with torch.no_grad():\n",
    "    for item_id in specific_items:\n",
    "        user_tensor = torch.tensor([user_id], dtype=torch.long)\n",
    "        item_tensor = torch.tensor([item_id], dtype=torch.long)\n",
    "\n",
    "        # Prédire la probabilité avec le modèle\n",
    "        probability = model_target(user_tensor, item_tensor).item()\n",
    "        probabilities.append((item_id, probability))\n",
    "\n",
    "probabilities = sorted(probabilities, key=lambda x: -x[1])\n",
    "\n",
    "# # Afficher les résultats\n",
    "# print(\"Probabilités pour les items spécifiques :\")\n",
    "# for item_id, prob in probabilities:\n",
    "#     print(f\"Item {item_id}: Click Probability = {prob:.4f}\")\n",
    "\n",
    "probabilities[:10]"
   ]
  },
  {
   "cell_type": "code",
   "execution_count": 22,
   "metadata": {},
   "outputs": [
    {
     "name": "stdout",
     "output_type": "stream",
     "text": [
      "9228\n",
      "9830\n",
      "9925\n",
      "8238\n",
      "9340\n",
      "147\n",
      "3662\n",
      "7689\n",
      "2586\n",
      "749\n"
     ]
    }
   ],
   "source": [
    "for i,j in probabilities[:10]:\n",
    "    print(i)"
   ]
  },
  {
   "cell_type": "code",
   "execution_count": null,
   "metadata": {},
   "outputs": [],
   "source": []
  },
  {
   "cell_type": "code",
   "execution_count": null,
   "metadata": {},
   "outputs": [],
   "source": []
  },
  {
   "cell_type": "code",
   "execution_count": null,
   "metadata": {},
   "outputs": [],
   "source": []
  },
  {
   "cell_type": "code",
   "execution_count": null,
   "metadata": {},
   "outputs": [],
   "source": []
  },
  {
   "cell_type": "code",
   "execution_count": null,
   "metadata": {},
   "outputs": [],
   "source": []
  },
  {
   "cell_type": "code",
   "execution_count": 23,
   "metadata": {},
   "outputs": [
    {
     "name": "stderr",
     "output_type": "stream",
     "text": [
      "C:\\Users\\admin\\AppData\\Local\\Temp\\ipykernel_11204\\4155684304.py:27: FutureWarning: You are using `torch.load` with `weights_only=False` (the current default value), which uses the default pickle module implicitly. It is possible to construct malicious pickle data which will execute arbitrary code during unpickling (See https://github.com/pytorch/pytorch/blob/main/SECURITY.md#untrusted-models for more details). In a future release, the default value for `weights_only` will be flipped to `True`. This limits the functions that could be executed during unpickling. Arbitrary objects will no longer be allowed to be loaded via this mode unless they are explicitly allowlisted by the user via `torch.serialization.add_safe_globals`. We recommend you start setting `weights_only=True` for any use case where you don't have full control of the loaded file. Please open an issue on GitHub for any issues related to this experimental feature.\n",
      "  model.load_state_dict(torch.load(\"./model.pth\"))\n"
     ]
    }
   ],
   "source": [
    "from torch import nn\n",
    "import torch\n",
    "\n",
    "class DeepCollaborativeFiltering_target(nn.Module):\n",
    "    def __init__(self, num_users, num_items, embedding_dim=32):\n",
    "        super(DeepCollaborativeFiltering_target, self).__init__()\n",
    "        self.user_embedding = nn.Embedding(num_users, embedding_dim)\n",
    "        self.item_embedding = nn.Embedding(num_items, embedding_dim)\n",
    "        self.fc1 = nn.Linear(embedding_dim * 2, 128)\n",
    "        self.fc2 = nn.Linear(128, 64)\n",
    "        self.output = nn.Linear(64, 1)  # Sortie unique pour binaire\n",
    "\n",
    "    def forward(self, user_ids, item_ids):\n",
    "        user_emb = self.user_embedding(user_ids)\n",
    "        item_emb = self.item_embedding(item_ids)\n",
    "        x = torch.cat([user_emb, item_emb], dim=1)\n",
    "        x = torch.relu(self.fc1(x))\n",
    "        x = torch.relu(self.fc2(x))\n",
    "        x = torch.sigmoid(self.output(x))  # Activation sigmoïde pour classification binaire\n",
    "        return x\n",
    "\n",
    "#---------------------------------------------------\n",
    "num_users_target = 583964\n",
    "num_items_target = 546895 \n",
    "\n",
    "model = DeepCollaborativeFiltering_target(num_users_target, num_items_target)\n",
    "model.load_state_dict(torch.load(\"./model.pth\"))\n",
    "model.eval()\n",
    "#---------------------------------------------------\n",
    "\n",
    "def recommande(user_id: int, items: list, k: int):\n",
    "    probabilities = []\n",
    "    \n",
    "    with torch.no_grad():\n",
    "        for item_id in items:\n",
    "            user_tensor = torch.tensor([user_id], dtype=torch.long)\n",
    "            item_tensor = torch.tensor([item_id], dtype=torch.long)\n",
    "\n",
    "            probability = model(user_tensor, item_tensor).item()\n",
    "            probabilities.append((item_id, probability))\n",
    "\n",
    "    probabilities = sorted(probabilities, key=lambda x: -x[1])\n",
    "    \n",
    "    return probabilities[:k]"
   ]
  },
  {
   "cell_type": "code",
   "execution_count": 26,
   "metadata": {},
   "outputs": [],
   "source": [
    "def generate_product(id, score: float=None):\n",
    "    return {\n",
    "        'id': id,\n",
    "        # 'title': f'Title of {id}',\n",
    "        # 'images': [],\n",
    "        # 'price': random.randint(100, 10_000) * 0.01,\n",
    "        # 'rating': random.randint(1, 5),\n",
    "        # 'description': f'Description of item {id}',\n",
    "        # 'category': f'Category {round(id % 100)}',\n",
    "        # 'discountPercentage': random.randint(1, 50),\n",
    "        # 'score': None if score is None else str(score)\n",
    "    }\n",
    "\n",
    "def generate_products(ids):\n",
    "    return [generate_product(i) for i in ids]\n",
    "\n",
    "def generate_products_score(ids_scores):\n",
    "    return [generate_product(i[0], i[1]) for i in ids_scores]\n"
   ]
  },
  {
   "cell_type": "code",
   "execution_count": 29,
   "metadata": {},
   "outputs": [],
   "source": [
    "user_id = 1\n",
    "\n",
    "count = 20\n",
    "\n",
    "items = list(range(1, 1_000))\n",
    "\n",
    "# top_items = recommande(user_id, items, count)\n",
    "# products = generate_products_score(top_items)\n",
    "# products\n",
    "\n",
    "recommande(user_id, items, count)"
   ]
  },
  {
   "cell_type": "code",
   "execution_count": null,
   "metadata": {},
   "outputs": [],
   "source": []
  }
 ],
 "metadata": {
  "kernelspec": {
   "display_name": "Python 3",
   "language": "python",
   "name": "python3"
  },
  "language_info": {
   "codemirror_mode": {
    "name": "ipython",
    "version": 3
   },
   "file_extension": ".py",
   "mimetype": "text/x-python",
   "name": "python",
   "nbconvert_exporter": "python",
   "pygments_lexer": "ipython3",
   "version": "3.11.4"
  }
 },
 "nbformat": 4,
 "nbformat_minor": 2
}
